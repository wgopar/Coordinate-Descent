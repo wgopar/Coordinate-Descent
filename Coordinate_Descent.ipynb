{
 "cells": [
  {
   "cell_type": "code",
   "execution_count": 9,
   "metadata": {},
   "outputs": [],
   "source": [
    "import numpy as np\n",
    "from tqdm import tqdm\n",
    "from random import randint\n",
    "import matplotlib.pyplot as plt\n",
    "from sklearn.metrics import log_loss\n",
    "from sklearn.metrics import accuracy_score\n",
    "from sklearn.linear_model import LogisticRegression\n",
    "\n",
    "% matplotlib inline"
   ]
  },
  {
   "cell_type": "markdown",
   "metadata": {},
   "source": [
    "Intro\n",
    "==="
   ]
  },
  {
   "cell_type": "markdown",
   "metadata": {},
   "source": [
    "This notebook showcases two different approaches to implementing coordinate descent on model defined with cross entropy loss. Coordinate descent does have problems if implemented on non-smooth multivariate functions as the algorithm may get stuck at a non-stationary points. This is because the level curves of the function are not smooth. Besides this, the algorithm does have increased interest in large-scale problems where it has been shown to be competitive to other algorithms when training support vector machines and performing non-negative matrix factorization. \n",
    "\n",
    "In this experiment I implement coordinate descent using the following approaches:\n",
    "\n",
    "\n",
    "* Randomly optimize along a random coordinate.\n",
    "* Optimize along coordinate with the largest gradient in magnitude\n",
    "\n",
    "To benchmark the solutions I implemented a standard logistic regression model with out focusing on validation and was just used to obtain Scikit-Learns implementation of gradient descent and final loss. The model is trained with the `wine.data` dataset provided by UCI machine learning repository."
   ]
  },
  {
   "cell_type": "markdown",
   "metadata": {},
   "source": [
    "# Procedure"
   ]
  },
  {
   "cell_type": "markdown",
   "metadata": {},
   "source": [
    "I use the cross entropy loss $L(w)$ in the coordinate descent method. Let $\\hat{y}$ be the probability of having label 1, and let $y$ be the actual label. Then the cross entropy loss and gradient is defined below:\n",
    "\n",
    "$$\n",
    "L(w) = -\\frac{1}{n}\\displaystyle\\sum_{i=1}^{n} y_{i} \\log \\hat{y}_{i} + (1 - y_{i}) \\log(1 - \\hat{y}_{i})\n",
    "$$\n",
    "\n",
    "And thus the gradients with respect with each weight $w_{j}$ is given by,\n",
    "\n",
    "$$\n",
    "\\frac{\\partial L(w)}{\\partial w_{j}} = \\displaystyle \\sum_{i=1}^{n}(\\hat{y}_{i} - y_{i})x_{j}\n",
    "$$\n",
    "\n",
    "The loss function $L(\\bullet)$ should be differentiable and preferrably convex. The procedure of the Coordinate Descent method is outlined below:\n",
    "\n",
    "* Initialize weights to zero\n",
    "\n",
    "* Get predictions from sigmoid function\n",
    "\n",
    "* Calculate loss and gradients\n",
    "\n",
    "* Find Coordinate $i$ with the largest gradient in absolute value (best coordinate descent) or randomly choose weight (random coordinate descent)\n",
    "\n",
    "* Update weight $i$ via: $w_{i} = w_{i} - \\eta \\frac{\\partial L(w)}{\\partial w_{i}}$\n",
    "\n",
    "* Repeat (1) - (5) until convergence"
   ]
  },
  {
   "cell_type": "code",
   "execution_count": 10,
   "metadata": {},
   "outputs": [],
   "source": [
    "data = np.loadtxt('./data/wine.data', delimiter=',')\n",
    "\n",
    "X, y = data[:, 1:], data[:,0]\n",
    "\n",
    "# tranform problem into binary classification task\n",
    "idxs = [i for i in range(len(y)) if y[i] == 1 or y[i] == 2]\n",
    "        \n",
    "X, y = X[idxs], y[idxs]\n",
    "\n",
    "# normalize data\n",
    "X = (X - X.mean(axis=0))/(X.max(axis=0) - X.min(axis=0))\n",
    "X = np.hstack((X,np.ones(len(X)).reshape(len(X),1)))\n",
    "\n",
    "# transform target variable\n",
    "y = np.array(list(map(lambda x: 0 if x == 1 else 1, y))) "
   ]
  },
  {
   "cell_type": "code",
   "execution_count": 12,
   "metadata": {},
   "outputs": [
    {
     "name": "stdout",
     "output_type": "stream",
     "text": [
      "Loss L* = 0.000393        \n"
     ]
    }
   ],
   "source": [
    "# scikit learn implementation (our benchmark)\n",
    "reg = LogisticRegression(solver='sag', C=100000, max_iter = 10000).fit(X,y)\n",
    "L_star = log_loss(y,reg.predict_proba(X))\n",
    "\n",
    "print(\"Loss L* = {:<16f}\".format(log_loss(y,reg.predict_proba(X))))"
   ]
  },
  {
   "cell_type": "markdown",
   "metadata": {},
   "source": [
    "We now benchmark coodinate descent algorithms off $ L^{*} \\approx 0.0004$."
   ]
  },
  {
   "cell_type": "code",
   "execution_count": 14,
   "metadata": {},
   "outputs": [],
   "source": [
    "# helper functions\n",
    "def sigmoid(x):\n",
    "    return 1 / (1 + np.exp(-x))\n",
    "\n",
    "def cross_entropy_loss(y,y_pred):\n",
    "    loss = -(1/len(y))*np.sum(y*np.log(y_pred) + (1 - y)*np.log(1 - y_pred))\n",
    "    return loss\n",
    "\n",
    "def cross_entropy_grad(y,y_pred,x):\n",
    "    return list(np.dot((y_pred - y),X)[0])"
   ]
  },
  {
   "cell_type": "markdown",
   "metadata": {},
   "source": [
    "# Best Index\n",
    "\n",
    "For each iteration, only update weight $w_{j}$ such that $|\\frac{\\partial L(w)}{\\partial w_{j}}|$ is the largest for all $j$."
   ]
  },
  {
   "cell_type": "code",
   "execution_count": 15,
   "metadata": {
    "scrolled": true
   },
   "outputs": [
    {
     "name": "stderr",
     "output_type": "stream",
     "text": [
      "100%|██████████| 1005000/1005000 [01:21<00:00, 12326.19it/s]"
     ]
    },
    {
     "name": "stdout",
     "output_type": "stream",
     "text": [
      "Accuracy for best coordinate descent 1.0\n",
      "Loss L = 0.0004698390523920375\n"
     ]
    },
    {
     "name": "stderr",
     "output_type": "stream",
     "text": [
      "\n"
     ]
    }
   ],
   "source": [
    "# initial weights\n",
    "w = np.zeros(14).reshape(14,1)\n",
    "w_rand = w\n",
    "\n",
    "eta = 0.01\n",
    "loss = []\n",
    "loss_rand = []\n",
    "num_iter = 1005000 # just take a bunch of iterations\n",
    "for t in tqdm(range(num_iter)):\n",
    "    \n",
    "    # predict step \n",
    "    y_pred = sigmoid(np.dot(w.T,X.T))\n",
    "    grad = cross_entropy_grad(y,y_pred,X)\n",
    "    \n",
    "    largest = np.argmax(np.abs(grad)) # idx with largest magnitude\n",
    "    loss.append(cross_entropy_loss(y,y_pred))  \n",
    "    \n",
    "    # update that coordinate with largest gradient in magnitude\n",
    "    w[largest] = w[largest] - eta*grad[largest]\n",
    "\n",
    "y_pred = sigmoid(np.dot(w.T,X.T))\n",
    "y_pred = np.array(list(map(lambda x: 1 if x >= 0.5 else 0, y_pred.flatten()))) # post processing\n",
    "\n",
    "print(\"Accuracy for best coordinate descent {0}\".format(accuracy_score(y, y_pred)))\n",
    "print(\"Loss L = {0}\".format(loss[-1]))"
   ]
  },
  {
   "cell_type": "markdown",
   "metadata": {},
   "source": [
    "# Random Index\n",
    "For each iteration, update weight $w_{j}$ for $j \\in 0 \\dots 13$. (e.g randomly choose a coordinate to minimize on)"
   ]
  },
  {
   "cell_type": "code",
   "execution_count": 6,
   "metadata": {},
   "outputs": [
    {
     "name": "stderr",
     "output_type": "stream",
     "text": [
      "100%|██████████| 1005000/1005000 [01:17<00:00, 12891.40it/s]"
     ]
    },
    {
     "name": "stdout",
     "output_type": "stream",
     "text": [
      "Accuracy for random coordinate descent 1.0\n"
     ]
    },
    {
     "name": "stderr",
     "output_type": "stream",
     "text": [
      "\n"
     ]
    }
   ],
   "source": [
    "# initial weights\n",
    "w = np.zeros(14).reshape(14,1)\n",
    "w_rand = w\n",
    "\n",
    "eta = 0.01\n",
    "loss_rand = []\n",
    "num_iter = 1005000\n",
    "for t in tqdm(range(num_iter)):\n",
    "    \n",
    "    # predict step\n",
    "    y_pred = sigmoid(np.dot(w.T,X.T))\n",
    "    loss_rand.append(cross_entropy_loss(y,y_pred))  \n",
    "    grad = cross_entropy_grad(y,y_pred,X)\n",
    "    random = randint(0,13)\n",
    "    \n",
    "    # update random coordinate\n",
    "    w_rand[random] = w_rand[random] - eta*grad[random]\n",
    "    \n",
    "y_pred = sigmoid(np.dot(w_rand.T,X.T))\n",
    "y_pred = np.array(list(map(lambda x: 1 if x >= 0.5 else 0, y_pred.flatten())))\n",
    "\n",
    "print(\"Accuracy for random coordinate descent {0}\".format(accuracy_score(y, y_pred)))"
   ]
  },
  {
   "cell_type": "code",
   "execution_count": 10,
   "metadata": {},
   "outputs": [
    {
     "data": {
      "text/plain": [
       "<matplotlib.legend.Legend at 0x129353e48>"
      ]
     },
     "execution_count": 10,
     "metadata": {},
     "output_type": "execute_result"
    },
    {
     "data": {
      "image/png": "[encoded data removed]",
      "text/plain": [
       "<Figure size 1000x1000 with 1 Axes>"
      ]
     },
     "metadata": {},
     "output_type": "display_data"
    }
   ],
   "source": [
    "plt.figure(figsize=(10,10))\n",
    "plt.plot(loss, 'g-', label='Best Coordinate Descent') # loss best coordinate descent\n",
    "plt.plot(loss_rand, 'r-', label='Random Feature Coordinate Descent')\n",
    "plt.axhline(y=L_star, color='y', label='L*')\n",
    "plt.title('iteration vs loss', fontsize=25)\n",
    "plt.xlabel('iteration', fontsize=15)\n",
    "plt.xlim(0,1000000)\n",
    "plt.ylim((-0.01,0.04))\n",
    "plt.ylabel('loss', fontsize=15)\n",
    "plt.xticks(fontsize=15)\n",
    "plt.yticks(fontsize=15)\n",
    "plt.grid()\n",
    "plt.legend()"
   ]
  },
  {
   "cell_type": "markdown",
   "metadata": {},
   "source": [
    "Experimental Results\n",
    "===\n",
    "\n",
    "In this experiment I began by running an unregularized standard logistic regression solver from scikit-learn. The final cross etnropy of the logistic regression model is $L^{*} \\approx 0.0004$.\n",
    "\n",
    "In my results, after 1.5 million updates, the coordinate descent method yields a loss $L = 0.00047 \\implies$ convergence to $L^{*}$. It is important to note that both implementations of Coordinate descent (random feature selection and best feature selection) converge to the loss $L^{*}$, but at different rates.\n",
    "\n",
    "We conclude that coordinate descent is more optimally implemented if the coordinate chosen has the largest g"
   ]
  },
  {
   "cell_type": "code",
   "execution_count": null,
   "metadata": {},
   "outputs": [],
   "source": []
  }
 ],
 "metadata": {
  "kernelspec": {
   "display_name": "Python 3",
   "language": "python",
   "name": "python3"
  },
  "language_info": {
   "codemirror_mode": {
    "name": "ipython",
    "version": 3
   },
   "file_extension": ".py",
   "mimetype": "text/x-python",
   "name": "python",
   "nbconvert_exporter": "python",
   "pygments_lexer": "ipython3",
   "version": "3.5.2"
  }
 },
 "nbformat": 4,
 "nbformat_minor": 1
}
